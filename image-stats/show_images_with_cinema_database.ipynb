{
 "cells": [
  {
   "cell_type": "code",
   "execution_count": null,
   "id": "bbd3fbdb",
   "metadata": {},
   "outputs": [],
   "source": [
    "import cv2 as cv\n",
    "import matplotlib.pyplot as plot\n",
    "import cinemasci.cdb\n",
    "\n",
    "# load a cinema database\n",
    "db = cinemasci.cdb.cdb(\"data/sphere.cdb\")\n",
    "db.read_data_from_file()\n",
    "db.set_extract_parameter_names([\"FILE\"])\n",
    "\n",
    "# query extracts to show\n",
    "extracts = db.get_extracts({\"theta\": \"0\", \"phi\": \"0\"})\n",
    "\n",
    "# load images and create converted (rgb) images\n",
    "# for matplotlib to show (opencv creates gbr images, which must be\n",
    "# converted to rgb for matplotlib)\n",
    "images = []\n",
    "images_rgb = []\n",
    "for e in extracts:\n",
    "    image = cv.imread(e)\n",
    "    image_rgb = cv.cvtColor(image, cv.COLOR_BGR2RGB)\n",
    "    plot.imshow(image_rgb)\n",
    "    plot.show()\n",
    "    \n",
    "    # add images to our lists\n",
    "    images.append(image)\n",
    "    images_rgb.append(image_rgb)"
   ]
  },
  {
   "cell_type": "code",
   "execution_count": null,
   "id": "fab89dee",
   "metadata": {},
   "outputs": [],
   "source": [
    "# create grayscale images\n",
    "for i in images_rgb:\n",
    "    gray = cv.cvtColor(i, cv.COLOR_RGB2GRAY)\n",
    "    plot.imshow(gray, cmap='gray')\n",
    "    plot.show()"
   ]
  }
 ],
 "metadata": {
  "kernelspec": {
   "display_name": "Python 3 (ipykernel)",
   "language": "python",
   "name": "python3"
  },
  "language_info": {
   "codemirror_mode": {
    "name": "ipython",
    "version": 3
   },
   "file_extension": ".py",
   "mimetype": "text/x-python",
   "name": "python",
   "nbconvert_exporter": "python",
   "pygments_lexer": "ipython3",
   "version": "3.9.10"
  }
 },
 "nbformat": 4,
 "nbformat_minor": 5
}
