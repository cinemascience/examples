{
 "cells": [
  {
   "cell_type": "code",
   "execution_count": null,
   "id": "087a2b76",
   "metadata": {},
   "outputs": [],
   "source": [
    "import cv2 as cv\n",
    "import matplotlib.pyplot as plot\n",
    "\n",
    "image = cv.imread(\"data/sphere.cdb/image/0/0.png\")\n",
    "image_rgb = cv.cvtColor(image, cv.COLOR_BGR2RGB)\n",
    "plot.imshow(image_rgb)"
   ]
  },
  {
   "cell_type": "code",
   "execution_count": null,
   "id": "1eab7183",
   "metadata": {},
   "outputs": [],
   "source": [
    "gray = cv.cvtColor(image_rgb, cv.COLOR_RGB2GRAY)\n",
    "plot.imshow(gray, cmap='gray')"
   ]
  }
 ],
 "metadata": {
  "kernelspec": {
   "display_name": "Python 3 (ipykernel)",
   "language": "python",
   "name": "python3"
  },
  "language_info": {
   "codemirror_mode": {
    "name": "ipython",
    "version": 3
   },
   "file_extension": ".py",
   "mimetype": "text/x-python",
   "name": "python",
   "nbconvert_exporter": "python",
   "pygments_lexer": "ipython3",
   "version": "3.9.10"
  }
 },
 "nbformat": 4,
 "nbformat_minor": 5
}
